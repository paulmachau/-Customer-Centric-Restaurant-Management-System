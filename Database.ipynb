{
  "nbformat": 4,
  "nbformat_minor": 0,
  "metadata": {
    "colab": {
      "provenance": [],
      "authorship_tag": "ABX9TyMyPwNcDVvNd7LOdLHtYaDx",
      "include_colab_link": true
    },
    "kernelspec": {
      "name": "python3",
      "display_name": "Python 3"
    },
    "language_info": {
      "name": "python"
    }
  },
  "cells": [
    {
      "cell_type": "markdown",
      "metadata": {
        "id": "view-in-github",
        "colab_type": "text"
      },
      "source": [
        "<a href=\"https://colab.research.google.com/github/paulmachau/-Customer-Centric-Restaurant-Management-System/blob/main/Database.ipynb\" target=\"_parent\"><img src=\"https://colab.research.google.com/assets/colab-badge.svg\" alt=\"Open In Colab\"/></a>"
      ]
    },
    {
      "cell_type": "code",
      "execution_count": 4,
      "metadata": {
        "colab": {
          "base_uri": "https://localhost:8080/"
        },
        "id": "ZVzPeE5SIxPO",
        "outputId": "41234518-df2f-4142-d91f-973082d7bac8"
      },
      "outputs": [
        {
          "output_type": "stream",
          "name": "stdout",
          "text": [
            "Requirement already satisfied: SQLAlchemy in /usr/local/lib/python3.10/dist-packages (2.0.31)\n",
            "Requirement already satisfied: typing-extensions>=4.6.0 in /usr/local/lib/python3.10/dist-packages (from SQLAlchemy) (4.12.2)\n",
            "Requirement already satisfied: greenlet!=0.4.17 in /usr/local/lib/python3.10/dist-packages (from SQLAlchemy) (3.0.3)\n"
          ]
        }
      ],
      "source": [
        "#Loading the libraries\n",
        "!pip install SQLAlchemy\n",
        "from sqlalchemy import create_engine, Column, Integer, String, Float, DateTime, ForeignKey, Enum\n",
        "from sqlalchemy.ext.declarative import declarative_base\n",
        "from sqlalchemy.orm import sessionmaker, relationship\n",
        "from datetime import datetime\n",
        "import enum"
      ]
    },
    {
      "cell_type": "markdown",
      "source": [
        "##Defining the database schema"
      ],
      "metadata": {
        "id": "UuVJwpsV7HcC"
      }
    },
    {
      "cell_type": "code",
      "source": [
        "# Create a SQLite engine\n",
        "engine = create_engine('sqlite:///ccrms.db', echo=True)\n",
        "\n",
        "# Base class for declarative models\n",
        "Base = declarative_base()\n",
        "\n",
        "# Define PaymentMethod enum\n",
        "class PaymentMethod(enum.Enum):\n",
        "    mpesa = \"Mpesa\"\n",
        "    debit_card = \"Debit Card\"\n",
        "    credit_card = \"Credit Card\"\n",
        "    cash = \"Cash\"\n",
        "\n",
        "# Define MenuItem model\n",
        "class MenuItem(Base):\n",
        "    __tablename__ = 'menu_items'\n",
        "    id = Column(Integer, primary_key=True)\n",
        "    name = Column(String(100), nullable=False)\n",
        "    description = Column(String(200))\n",
        "    price = Column(Float, nullable=False)\n",
        "    prep_time = Column(Integer)\n",
        "\n",
        "# Define Customer model\n",
        "class Customer(Base):\n",
        "    __tablename__ = 'customers'\n",
        "    id = Column(Integer, primary_key=True)\n",
        "    name = Column(String(100), nullable=False)\n",
        "    email = Column(String(100), unique=True, nullable=False)\n",
        "    phone = Column(String(20), unique=True)\n",
        "    loyalty_points = Column(Integer, default=0)\n",
        "\n",
        "# Define Feedback model\n",
        "class Feedback(Base):\n",
        "    __tablename__ = 'feedback'\n",
        "    id = Column(Integer, primary_key=True)\n",
        "    customer_id = Column(Integer, ForeignKey('customers.id'), nullable=False)\n",
        "    rating = Column(Integer, nullable=False)\n",
        "    comment = Column(String(500))\n",
        "    timestamp = Column(DateTime, default=datetime.utcnow)\n",
        "\n",
        "    customer = relationship('Customer', back_populates='feedback')\n",
        "\n",
        "# Define Communication model\n",
        "class Communication(Base):\n",
        "    __tablename__ = 'communications'\n",
        "    id = Column(Integer, primary_key=True)\n",
        "    title = Column(String(100), nullable=False)\n",
        "    message = Column(String(500))\n",
        "    sent_at = Column(DateTime, default=datetime.utcnow)\n",
        "\n",
        "# Define Payment model\n",
        "class Payment(Base):\n",
        "    __tablename__ = 'payments'\n",
        "    id = Column(Integer, primary_key=True)\n",
        "    customer_id = Column(Integer, ForeignKey('customers.id'), nullable=False)\n",
        "    amount = Column(Float, nullable=False)\n",
        "    method = Column(Enum(PaymentMethod), nullable=False)\n",
        "    bank_name = Column(String(100))\n",
        "    timestamp = Column(DateTime, default=datetime.utcnow)\n",
        "\n",
        "    customer = relationship('Customer', back_populates='payments')\n",
        "\n",
        "Customer.feedback = relationship('Feedback', order_by=Feedback.id, back_populates='customer')\n",
        "Customer.payments = relationship('Payment', order_by=Payment.id, back_populates='customer')\n",
        "\n",
        "# Create all tables\n",
        "Base.metadata.create_all(engine)\n",
        "\n",
        "# Create a session\n",
        "Session = sessionmaker(bind=engine)\n",
        "session = Session()"
      ],
      "metadata": {
        "colab": {
          "base_uri": "https://localhost:8080/"
        },
        "id": "BP9ZZ4tA9BBq",
        "outputId": "67d0beb5-239b-4920-cde3-c8387f7a5a89"
      },
      "execution_count": 14,
      "outputs": [
        {
          "output_type": "stream",
          "name": "stdout",
          "text": [
            "2024-07-12 12:38:58,308 INFO sqlalchemy.engine.Engine BEGIN (implicit)\n"
          ]
        },
        {
          "output_type": "stream",
          "name": "stderr",
          "text": [
            "<ipython-input-14-89ce9e2296ff>:5: MovedIn20Warning: The ``declarative_base()`` function is now available as sqlalchemy.orm.declarative_base(). (deprecated since: 2.0) (Background on SQLAlchemy 2.0 at: https://sqlalche.me/e/b8d9)\n",
            "  Base = declarative_base()\n",
            "INFO:sqlalchemy.engine.Engine:BEGIN (implicit)\n"
          ]
        },
        {
          "output_type": "stream",
          "name": "stdout",
          "text": [
            "2024-07-12 12:38:58,314 INFO sqlalchemy.engine.Engine PRAGMA main.table_info(\"menu_items\")\n"
          ]
        },
        {
          "output_type": "stream",
          "name": "stderr",
          "text": [
            "INFO:sqlalchemy.engine.Engine:PRAGMA main.table_info(\"menu_items\")\n"
          ]
        },
        {
          "output_type": "stream",
          "name": "stdout",
          "text": [
            "2024-07-12 12:38:58,324 INFO sqlalchemy.engine.Engine [raw sql] ()\n"
          ]
        },
        {
          "output_type": "stream",
          "name": "stderr",
          "text": [
            "INFO:sqlalchemy.engine.Engine:[raw sql] ()\n"
          ]
        },
        {
          "output_type": "stream",
          "name": "stdout",
          "text": [
            "2024-07-12 12:38:58,328 INFO sqlalchemy.engine.Engine PRAGMA main.table_info(\"customers\")\n"
          ]
        },
        {
          "output_type": "stream",
          "name": "stderr",
          "text": [
            "INFO:sqlalchemy.engine.Engine:PRAGMA main.table_info(\"customers\")\n"
          ]
        },
        {
          "output_type": "stream",
          "name": "stdout",
          "text": [
            "2024-07-12 12:38:58,332 INFO sqlalchemy.engine.Engine [raw sql] ()\n"
          ]
        },
        {
          "output_type": "stream",
          "name": "stderr",
          "text": [
            "INFO:sqlalchemy.engine.Engine:[raw sql] ()\n"
          ]
        },
        {
          "output_type": "stream",
          "name": "stdout",
          "text": [
            "2024-07-12 12:38:58,337 INFO sqlalchemy.engine.Engine PRAGMA main.table_info(\"feedback\")\n"
          ]
        },
        {
          "output_type": "stream",
          "name": "stderr",
          "text": [
            "INFO:sqlalchemy.engine.Engine:PRAGMA main.table_info(\"feedback\")\n"
          ]
        },
        {
          "output_type": "stream",
          "name": "stdout",
          "text": [
            "2024-07-12 12:38:58,343 INFO sqlalchemy.engine.Engine [raw sql] ()\n"
          ]
        },
        {
          "output_type": "stream",
          "name": "stderr",
          "text": [
            "INFO:sqlalchemy.engine.Engine:[raw sql] ()\n"
          ]
        },
        {
          "output_type": "stream",
          "name": "stdout",
          "text": [
            "2024-07-12 12:38:58,347 INFO sqlalchemy.engine.Engine PRAGMA main.table_info(\"communications\")\n"
          ]
        },
        {
          "output_type": "stream",
          "name": "stderr",
          "text": [
            "INFO:sqlalchemy.engine.Engine:PRAGMA main.table_info(\"communications\")\n"
          ]
        },
        {
          "output_type": "stream",
          "name": "stdout",
          "text": [
            "2024-07-12 12:38:58,349 INFO sqlalchemy.engine.Engine [raw sql] ()\n"
          ]
        },
        {
          "output_type": "stream",
          "name": "stderr",
          "text": [
            "INFO:sqlalchemy.engine.Engine:[raw sql] ()\n"
          ]
        },
        {
          "output_type": "stream",
          "name": "stdout",
          "text": [
            "2024-07-12 12:38:58,352 INFO sqlalchemy.engine.Engine PRAGMA main.table_info(\"payments\")\n"
          ]
        },
        {
          "output_type": "stream",
          "name": "stderr",
          "text": [
            "INFO:sqlalchemy.engine.Engine:PRAGMA main.table_info(\"payments\")\n"
          ]
        },
        {
          "output_type": "stream",
          "name": "stdout",
          "text": [
            "2024-07-12 12:38:58,355 INFO sqlalchemy.engine.Engine [raw sql] ()\n"
          ]
        },
        {
          "output_type": "stream",
          "name": "stderr",
          "text": [
            "INFO:sqlalchemy.engine.Engine:[raw sql] ()\n"
          ]
        },
        {
          "output_type": "stream",
          "name": "stdout",
          "text": [
            "2024-07-12 12:38:58,360 INFO sqlalchemy.engine.Engine COMMIT\n"
          ]
        },
        {
          "output_type": "stream",
          "name": "stderr",
          "text": [
            "INFO:sqlalchemy.engine.Engine:COMMIT\n"
          ]
        }
      ]
    },
    {
      "cell_type": "code",
      "source": [
        "# Rollback any previous transactions\n",
        "session.rollback()\n",
        "\n",
        "# Clear existing data from tables\n",
        "session.query(Payment).delete()\n",
        "session.query(Feedback).delete()\n",
        "session.query(Communication).delete()\n",
        "session.query(Customer).delete()\n",
        "session.query(MenuItem).delete()\n",
        "session.commit()\n"
      ],
      "metadata": {
        "colab": {
          "base_uri": "https://localhost:8080/"
        },
        "id": "UStf-30n9Ngc",
        "outputId": "aafbb8fe-2949-44ba-9beb-d4fa212eaf6a"
      },
      "execution_count": 15,
      "outputs": [
        {
          "output_type": "stream",
          "name": "stdout",
          "text": [
            "2024-07-12 12:39:47,150 INFO sqlalchemy.engine.Engine BEGIN (implicit)\n"
          ]
        },
        {
          "output_type": "stream",
          "name": "stderr",
          "text": [
            "INFO:sqlalchemy.engine.Engine:BEGIN (implicit)\n"
          ]
        },
        {
          "output_type": "stream",
          "name": "stdout",
          "text": [
            "2024-07-12 12:39:47,156 INFO sqlalchemy.engine.Engine DELETE FROM payments\n"
          ]
        },
        {
          "output_type": "stream",
          "name": "stderr",
          "text": [
            "INFO:sqlalchemy.engine.Engine:DELETE FROM payments\n"
          ]
        },
        {
          "output_type": "stream",
          "name": "stdout",
          "text": [
            "2024-07-12 12:39:47,162 INFO sqlalchemy.engine.Engine [generated in 0.00621s] ()\n"
          ]
        },
        {
          "output_type": "stream",
          "name": "stderr",
          "text": [
            "INFO:sqlalchemy.engine.Engine:[generated in 0.00621s] ()\n"
          ]
        },
        {
          "output_type": "stream",
          "name": "stdout",
          "text": [
            "2024-07-12 12:39:47,170 INFO sqlalchemy.engine.Engine DELETE FROM feedback\n"
          ]
        },
        {
          "output_type": "stream",
          "name": "stderr",
          "text": [
            "INFO:sqlalchemy.engine.Engine:DELETE FROM feedback\n"
          ]
        },
        {
          "output_type": "stream",
          "name": "stdout",
          "text": [
            "2024-07-12 12:39:47,173 INFO sqlalchemy.engine.Engine [generated in 0.00319s] ()\n"
          ]
        },
        {
          "output_type": "stream",
          "name": "stderr",
          "text": [
            "INFO:sqlalchemy.engine.Engine:[generated in 0.00319s] ()\n"
          ]
        },
        {
          "output_type": "stream",
          "name": "stdout",
          "text": [
            "2024-07-12 12:39:47,178 INFO sqlalchemy.engine.Engine DELETE FROM communications\n"
          ]
        },
        {
          "output_type": "stream",
          "name": "stderr",
          "text": [
            "INFO:sqlalchemy.engine.Engine:DELETE FROM communications\n"
          ]
        },
        {
          "output_type": "stream",
          "name": "stdout",
          "text": [
            "2024-07-12 12:39:47,181 INFO sqlalchemy.engine.Engine [generated in 0.00370s] ()\n"
          ]
        },
        {
          "output_type": "stream",
          "name": "stderr",
          "text": [
            "INFO:sqlalchemy.engine.Engine:[generated in 0.00370s] ()\n"
          ]
        },
        {
          "output_type": "stream",
          "name": "stdout",
          "text": [
            "2024-07-12 12:39:47,186 INFO sqlalchemy.engine.Engine DELETE FROM customers\n"
          ]
        },
        {
          "output_type": "stream",
          "name": "stderr",
          "text": [
            "INFO:sqlalchemy.engine.Engine:DELETE FROM customers\n"
          ]
        },
        {
          "output_type": "stream",
          "name": "stdout",
          "text": [
            "2024-07-12 12:39:47,189 INFO sqlalchemy.engine.Engine [generated in 0.00310s] ()\n"
          ]
        },
        {
          "output_type": "stream",
          "name": "stderr",
          "text": [
            "INFO:sqlalchemy.engine.Engine:[generated in 0.00310s] ()\n"
          ]
        },
        {
          "output_type": "stream",
          "name": "stdout",
          "text": [
            "2024-07-12 12:39:47,194 INFO sqlalchemy.engine.Engine DELETE FROM menu_items\n"
          ]
        },
        {
          "output_type": "stream",
          "name": "stderr",
          "text": [
            "INFO:sqlalchemy.engine.Engine:DELETE FROM menu_items\n"
          ]
        },
        {
          "output_type": "stream",
          "name": "stdout",
          "text": [
            "2024-07-12 12:39:47,197 INFO sqlalchemy.engine.Engine [generated in 0.00311s] ()\n"
          ]
        },
        {
          "output_type": "stream",
          "name": "stderr",
          "text": [
            "INFO:sqlalchemy.engine.Engine:[generated in 0.00311s] ()\n"
          ]
        },
        {
          "output_type": "stream",
          "name": "stdout",
          "text": [
            "2024-07-12 12:39:47,200 INFO sqlalchemy.engine.Engine COMMIT\n"
          ]
        },
        {
          "output_type": "stream",
          "name": "stderr",
          "text": [
            "INFO:sqlalchemy.engine.Engine:COMMIT\n"
          ]
        }
      ]
    },
    {
      "cell_type": "markdown",
      "source": [
        "##Populate the database with sample data"
      ],
      "metadata": {
        "id": "_eligU6j4zBr"
      }
    },
    {
      "cell_type": "code",
      "source": [
        "# Define sample data\n",
        "sample_menu_items = [\n",
        "    MenuItem(name=\"Pizza Margherita\", description=\"Classic pizza with tomatoes, mozzarella, and basil\", price=10.0, prep_time=15),\n",
        "    MenuItem(name=\"Spaghetti Carbonara\", description=\"Pasta with eggs, cheese, pancetta, and pepper\", price=12.0, prep_time=20),\n",
        "    MenuItem(name=\"Caesar Salad\", description=\"Salad with romaine lettuce, croutons, and Caesar dressing\", price=8.0, prep_time=10)\n",
        "]\n",
        "\n",
        "sample_customers = [\n",
        "    Customer(name=\"Alice Smith\", email=\"alice.smith@example.com\", phone=\"1234567890\", loyalty_points=100),\n",
        "    Customer(name=\"Bob Johnson\", email=\"bob.johnson@example.com\", phone=\"0987654321\", loyalty_points=200)\n",
        "]\n",
        "\n",
        "sample_feedback = [\n",
        "    Feedback(customer_id=1, rating=5, comment=\"Excellent food and service!\"),\n",
        "    Feedback(customer_id=2, rating=4, comment=\"Great food, but a bit slow.\")\n",
        "]\n",
        "\n",
        "sample_communications = [\n",
        "    Communication(title=\"Special Discount\", message=\"Get 20% off on all orders this weekend!\", sent_at=datetime.utcnow()),\n",
        "    Communication(title=\"New Menu Item\", message=\"Try our new vegan burger!\", sent_at=datetime.utcnow())\n",
        "]\n",
        "\n",
        "sample_payments = [\n",
        "    Payment(customer_id=1, amount=10.0, method=PaymentMethod.debit_card, bank_name=\"Bank A\"),\n",
        "    Payment(customer_id=2, amount=12.0, method=PaymentMethod.credit_card, bank_name=\"Bank B\"),\n",
        "    Payment(customer_id=1, amount=8.0, method=PaymentMethod.cash),\n",
        "    Payment(customer_id=2, amount=15.0, method=PaymentMethod.mpesa)\n",
        "]\n",
        "\n",
        "# Add sample data to the session and commit\n",
        "session.add_all(sample_menu_items)\n",
        "session.add_all(sample_customers)\n",
        "session.add_all(sample_feedback)\n",
        "session.add_all(sample_communications)\n",
        "session.add_all(sample_payments)\n",
        "session.commit()\n",
        "\n",
        "# Verify the data insertion\n",
        "print(\"Menu Items:\", session.query(MenuItem).all())\n",
        "print(\"Customers:\", session.query(Customer).all())\n",
        "print(\"Feedback:\", session.query(Feedback).all())\n",
        "print(\"Communications:\", session.query(Communication).all())\n",
        "print(\"Payments:\", session.query(Payment).all())\n"
      ],
      "metadata": {
        "colab": {
          "base_uri": "https://localhost:8080/"
        },
        "id": "U068ybD89UPG",
        "outputId": "3347060f-5ef6-436c-e206-648113a35da5"
      },
      "execution_count": 16,
      "outputs": [
        {
          "output_type": "stream",
          "name": "stdout",
          "text": [
            "2024-07-12 12:40:15,953 INFO sqlalchemy.engine.Engine BEGIN (implicit)\n"
          ]
        },
        {
          "output_type": "stream",
          "name": "stderr",
          "text": [
            "INFO:sqlalchemy.engine.Engine:BEGIN (implicit)\n"
          ]
        },
        {
          "output_type": "stream",
          "name": "stdout",
          "text": [
            "2024-07-12 12:40:15,961 INFO sqlalchemy.engine.Engine INSERT INTO communications (title, message, sent_at) VALUES (?, ?, ?) RETURNING id\n"
          ]
        },
        {
          "output_type": "stream",
          "name": "stderr",
          "text": [
            "INFO:sqlalchemy.engine.Engine:INSERT INTO communications (title, message, sent_at) VALUES (?, ?, ?) RETURNING id\n"
          ]
        },
        {
          "output_type": "stream",
          "name": "stdout",
          "text": [
            "2024-07-12 12:40:15,965 INFO sqlalchemy.engine.Engine [generated in 0.00020s (insertmanyvalues) 1/2 (ordered; batch not supported)] ('Special Discount', 'Get 20% off on all orders this weekend!', '2024-07-12 12:40:15.949812')\n"
          ]
        },
        {
          "output_type": "stream",
          "name": "stderr",
          "text": [
            "INFO:sqlalchemy.engine.Engine:[generated in 0.00020s (insertmanyvalues) 1/2 (ordered; batch not supported)] ('Special Discount', 'Get 20% off on all orders this weekend!', '2024-07-12 12:40:15.949812')\n"
          ]
        },
        {
          "output_type": "stream",
          "name": "stdout",
          "text": [
            "2024-07-12 12:40:15,968 INFO sqlalchemy.engine.Engine INSERT INTO communications (title, message, sent_at) VALUES (?, ?, ?) RETURNING id\n"
          ]
        },
        {
          "output_type": "stream",
          "name": "stderr",
          "text": [
            "INFO:sqlalchemy.engine.Engine:INSERT INTO communications (title, message, sent_at) VALUES (?, ?, ?) RETURNING id\n"
          ]
        },
        {
          "output_type": "stream",
          "name": "stdout",
          "text": [
            "2024-07-12 12:40:15,973 INFO sqlalchemy.engine.Engine [insertmanyvalues 2/2 (ordered; batch not supported)] ('New Menu Item', 'Try our new vegan burger!', '2024-07-12 12:40:15.949865')\n"
          ]
        },
        {
          "output_type": "stream",
          "name": "stderr",
          "text": [
            "INFO:sqlalchemy.engine.Engine:[insertmanyvalues 2/2 (ordered; batch not supported)] ('New Menu Item', 'Try our new vegan burger!', '2024-07-12 12:40:15.949865')\n"
          ]
        },
        {
          "output_type": "stream",
          "name": "stdout",
          "text": [
            "2024-07-12 12:40:15,978 INFO sqlalchemy.engine.Engine INSERT INTO customers (name, email, phone, loyalty_points) VALUES (?, ?, ?, ?) RETURNING id\n"
          ]
        },
        {
          "output_type": "stream",
          "name": "stderr",
          "text": [
            "INFO:sqlalchemy.engine.Engine:INSERT INTO customers (name, email, phone, loyalty_points) VALUES (?, ?, ?, ?) RETURNING id\n"
          ]
        },
        {
          "output_type": "stream",
          "name": "stdout",
          "text": [
            "2024-07-12 12:40:15,983 INFO sqlalchemy.engine.Engine [generated in 0.00020s (insertmanyvalues) 1/2 (ordered; batch not supported)] ('Alice Smith', 'alice.smith@example.com', '1234567890', 100)\n"
          ]
        },
        {
          "output_type": "stream",
          "name": "stderr",
          "text": [
            "INFO:sqlalchemy.engine.Engine:[generated in 0.00020s (insertmanyvalues) 1/2 (ordered; batch not supported)] ('Alice Smith', 'alice.smith@example.com', '1234567890', 100)\n"
          ]
        },
        {
          "output_type": "stream",
          "name": "stdout",
          "text": [
            "2024-07-12 12:40:15,990 INFO sqlalchemy.engine.Engine INSERT INTO customers (name, email, phone, loyalty_points) VALUES (?, ?, ?, ?) RETURNING id\n"
          ]
        },
        {
          "output_type": "stream",
          "name": "stderr",
          "text": [
            "INFO:sqlalchemy.engine.Engine:INSERT INTO customers (name, email, phone, loyalty_points) VALUES (?, ?, ?, ?) RETURNING id\n"
          ]
        },
        {
          "output_type": "stream",
          "name": "stdout",
          "text": [
            "2024-07-12 12:40:15,995 INFO sqlalchemy.engine.Engine [insertmanyvalues 2/2 (ordered; batch not supported)] ('Bob Johnson', 'bob.johnson@example.com', '0987654321', 200)\n"
          ]
        },
        {
          "output_type": "stream",
          "name": "stderr",
          "text": [
            "INFO:sqlalchemy.engine.Engine:[insertmanyvalues 2/2 (ordered; batch not supported)] ('Bob Johnson', 'bob.johnson@example.com', '0987654321', 200)\n"
          ]
        },
        {
          "output_type": "stream",
          "name": "stdout",
          "text": [
            "2024-07-12 12:40:16,005 INFO sqlalchemy.engine.Engine INSERT INTO menu_items (name, description, price, prep_time) VALUES (?, ?, ?, ?) RETURNING id\n"
          ]
        },
        {
          "output_type": "stream",
          "name": "stderr",
          "text": [
            "INFO:sqlalchemy.engine.Engine:INSERT INTO menu_items (name, description, price, prep_time) VALUES (?, ?, ?, ?) RETURNING id\n"
          ]
        },
        {
          "output_type": "stream",
          "name": "stdout",
          "text": [
            "2024-07-12 12:40:16,013 INFO sqlalchemy.engine.Engine [generated in 0.00038s (insertmanyvalues) 1/3 (ordered; batch not supported)] ('Pizza Margherita', 'Classic pizza with tomatoes, mozzarella, and basil', 10.0, 15)\n"
          ]
        },
        {
          "output_type": "stream",
          "name": "stderr",
          "text": [
            "INFO:sqlalchemy.engine.Engine:[generated in 0.00038s (insertmanyvalues) 1/3 (ordered; batch not supported)] ('Pizza Margherita', 'Classic pizza with tomatoes, mozzarella, and basil', 10.0, 15)\n"
          ]
        },
        {
          "output_type": "stream",
          "name": "stdout",
          "text": [
            "2024-07-12 12:40:16,016 INFO sqlalchemy.engine.Engine INSERT INTO menu_items (name, description, price, prep_time) VALUES (?, ?, ?, ?) RETURNING id\n"
          ]
        },
        {
          "output_type": "stream",
          "name": "stderr",
          "text": [
            "INFO:sqlalchemy.engine.Engine:INSERT INTO menu_items (name, description, price, prep_time) VALUES (?, ?, ?, ?) RETURNING id\n"
          ]
        },
        {
          "output_type": "stream",
          "name": "stdout",
          "text": [
            "2024-07-12 12:40:16,020 INFO sqlalchemy.engine.Engine [insertmanyvalues 2/3 (ordered; batch not supported)] ('Spaghetti Carbonara', 'Pasta with eggs, cheese, pancetta, and pepper', 12.0, 20)\n"
          ]
        },
        {
          "output_type": "stream",
          "name": "stderr",
          "text": [
            "INFO:sqlalchemy.engine.Engine:[insertmanyvalues 2/3 (ordered; batch not supported)] ('Spaghetti Carbonara', 'Pasta with eggs, cheese, pancetta, and pepper', 12.0, 20)\n"
          ]
        },
        {
          "output_type": "stream",
          "name": "stdout",
          "text": [
            "2024-07-12 12:40:16,024 INFO sqlalchemy.engine.Engine INSERT INTO menu_items (name, description, price, prep_time) VALUES (?, ?, ?, ?) RETURNING id\n"
          ]
        },
        {
          "output_type": "stream",
          "name": "stderr",
          "text": [
            "INFO:sqlalchemy.engine.Engine:INSERT INTO menu_items (name, description, price, prep_time) VALUES (?, ?, ?, ?) RETURNING id\n"
          ]
        },
        {
          "output_type": "stream",
          "name": "stdout",
          "text": [
            "2024-07-12 12:40:16,028 INFO sqlalchemy.engine.Engine [insertmanyvalues 3/3 (ordered; batch not supported)] ('Caesar Salad', 'Salad with romaine lettuce, croutons, and Caesar dressing', 8.0, 10)\n"
          ]
        },
        {
          "output_type": "stream",
          "name": "stderr",
          "text": [
            "INFO:sqlalchemy.engine.Engine:[insertmanyvalues 3/3 (ordered; batch not supported)] ('Caesar Salad', 'Salad with romaine lettuce, croutons, and Caesar dressing', 8.0, 10)\n"
          ]
        },
        {
          "output_type": "stream",
          "name": "stdout",
          "text": [
            "2024-07-12 12:40:16,035 INFO sqlalchemy.engine.Engine INSERT INTO feedback (customer_id, rating, comment, timestamp) VALUES (?, ?, ?, ?) RETURNING id\n"
          ]
        },
        {
          "output_type": "stream",
          "name": "stderr",
          "text": [
            "INFO:sqlalchemy.engine.Engine:INSERT INTO feedback (customer_id, rating, comment, timestamp) VALUES (?, ?, ?, ?) RETURNING id\n"
          ]
        },
        {
          "output_type": "stream",
          "name": "stdout",
          "text": [
            "2024-07-12 12:40:16,043 INFO sqlalchemy.engine.Engine [generated in 0.00031s (insertmanyvalues) 1/2 (ordered; batch not supported)] (1, 5, 'Excellent food and service!', '2024-07-12 12:40:16.035135')\n"
          ]
        },
        {
          "output_type": "stream",
          "name": "stderr",
          "text": [
            "INFO:sqlalchemy.engine.Engine:[generated in 0.00031s (insertmanyvalues) 1/2 (ordered; batch not supported)] (1, 5, 'Excellent food and service!', '2024-07-12 12:40:16.035135')\n"
          ]
        },
        {
          "output_type": "stream",
          "name": "stdout",
          "text": [
            "2024-07-12 12:40:16,047 INFO sqlalchemy.engine.Engine INSERT INTO feedback (customer_id, rating, comment, timestamp) VALUES (?, ?, ?, ?) RETURNING id\n"
          ]
        },
        {
          "output_type": "stream",
          "name": "stderr",
          "text": [
            "INFO:sqlalchemy.engine.Engine:INSERT INTO feedback (customer_id, rating, comment, timestamp) VALUES (?, ?, ?, ?) RETURNING id\n"
          ]
        },
        {
          "output_type": "stream",
          "name": "stdout",
          "text": [
            "2024-07-12 12:40:16,050 INFO sqlalchemy.engine.Engine [insertmanyvalues 2/2 (ordered; batch not supported)] (2, 4, 'Great food, but a bit slow.', '2024-07-12 12:40:16.035139')\n"
          ]
        },
        {
          "output_type": "stream",
          "name": "stderr",
          "text": [
            "INFO:sqlalchemy.engine.Engine:[insertmanyvalues 2/2 (ordered; batch not supported)] (2, 4, 'Great food, but a bit slow.', '2024-07-12 12:40:16.035139')\n"
          ]
        },
        {
          "output_type": "stream",
          "name": "stdout",
          "text": [
            "2024-07-12 12:40:16,057 INFO sqlalchemy.engine.Engine INSERT INTO payments (customer_id, amount, method, bank_name, timestamp) VALUES (?, ?, ?, ?, ?) RETURNING id\n"
          ]
        },
        {
          "output_type": "stream",
          "name": "stderr",
          "text": [
            "INFO:sqlalchemy.engine.Engine:INSERT INTO payments (customer_id, amount, method, bank_name, timestamp) VALUES (?, ?, ?, ?, ?) RETURNING id\n"
          ]
        },
        {
          "output_type": "stream",
          "name": "stdout",
          "text": [
            "2024-07-12 12:40:16,064 INFO sqlalchemy.engine.Engine [generated in 0.00038s (insertmanyvalues) 1/4 (ordered; batch not supported)] (1, 10.0, 'debit_card', 'Bank A', '2024-07-12 12:40:16.057600')\n"
          ]
        },
        {
          "output_type": "stream",
          "name": "stderr",
          "text": [
            "INFO:sqlalchemy.engine.Engine:[generated in 0.00038s (insertmanyvalues) 1/4 (ordered; batch not supported)] (1, 10.0, 'debit_card', 'Bank A', '2024-07-12 12:40:16.057600')\n"
          ]
        },
        {
          "output_type": "stream",
          "name": "stdout",
          "text": [
            "2024-07-12 12:40:16,067 INFO sqlalchemy.engine.Engine INSERT INTO payments (customer_id, amount, method, bank_name, timestamp) VALUES (?, ?, ?, ?, ?) RETURNING id\n"
          ]
        },
        {
          "output_type": "stream",
          "name": "stderr",
          "text": [
            "INFO:sqlalchemy.engine.Engine:INSERT INTO payments (customer_id, amount, method, bank_name, timestamp) VALUES (?, ?, ?, ?, ?) RETURNING id\n"
          ]
        },
        {
          "output_type": "stream",
          "name": "stdout",
          "text": [
            "2024-07-12 12:40:16,071 INFO sqlalchemy.engine.Engine [insertmanyvalues 2/4 (ordered; batch not supported)] (2, 12.0, 'credit_card', 'Bank B', '2024-07-12 12:40:16.057604')\n"
          ]
        },
        {
          "output_type": "stream",
          "name": "stderr",
          "text": [
            "INFO:sqlalchemy.engine.Engine:[insertmanyvalues 2/4 (ordered; batch not supported)] (2, 12.0, 'credit_card', 'Bank B', '2024-07-12 12:40:16.057604')\n"
          ]
        },
        {
          "output_type": "stream",
          "name": "stdout",
          "text": [
            "2024-07-12 12:40:16,075 INFO sqlalchemy.engine.Engine INSERT INTO payments (customer_id, amount, method, bank_name, timestamp) VALUES (?, ?, ?, ?, ?) RETURNING id\n"
          ]
        },
        {
          "output_type": "stream",
          "name": "stderr",
          "text": [
            "INFO:sqlalchemy.engine.Engine:INSERT INTO payments (customer_id, amount, method, bank_name, timestamp) VALUES (?, ?, ?, ?, ?) RETURNING id\n"
          ]
        },
        {
          "output_type": "stream",
          "name": "stdout",
          "text": [
            "2024-07-12 12:40:16,082 INFO sqlalchemy.engine.Engine [insertmanyvalues 3/4 (ordered; batch not supported)] (1, 8.0, 'cash', None, '2024-07-12 12:40:16.057606')\n"
          ]
        },
        {
          "output_type": "stream",
          "name": "stderr",
          "text": [
            "INFO:sqlalchemy.engine.Engine:[insertmanyvalues 3/4 (ordered; batch not supported)] (1, 8.0, 'cash', None, '2024-07-12 12:40:16.057606')\n"
          ]
        },
        {
          "output_type": "stream",
          "name": "stdout",
          "text": [
            "2024-07-12 12:40:16,092 INFO sqlalchemy.engine.Engine INSERT INTO payments (customer_id, amount, method, bank_name, timestamp) VALUES (?, ?, ?, ?, ?) RETURNING id\n"
          ]
        },
        {
          "output_type": "stream",
          "name": "stderr",
          "text": [
            "INFO:sqlalchemy.engine.Engine:INSERT INTO payments (customer_id, amount, method, bank_name, timestamp) VALUES (?, ?, ?, ?, ?) RETURNING id\n"
          ]
        },
        {
          "output_type": "stream",
          "name": "stdout",
          "text": [
            "2024-07-12 12:40:16,100 INFO sqlalchemy.engine.Engine [insertmanyvalues 4/4 (ordered; batch not supported)] (2, 15.0, 'mpesa', None, '2024-07-12 12:40:16.057607')\n"
          ]
        },
        {
          "output_type": "stream",
          "name": "stderr",
          "text": [
            "INFO:sqlalchemy.engine.Engine:[insertmanyvalues 4/4 (ordered; batch not supported)] (2, 15.0, 'mpesa', None, '2024-07-12 12:40:16.057607')\n"
          ]
        },
        {
          "output_type": "stream",
          "name": "stdout",
          "text": [
            "2024-07-12 12:40:16,105 INFO sqlalchemy.engine.Engine COMMIT\n"
          ]
        },
        {
          "output_type": "stream",
          "name": "stderr",
          "text": [
            "INFO:sqlalchemy.engine.Engine:COMMIT\n"
          ]
        },
        {
          "output_type": "stream",
          "name": "stdout",
          "text": [
            "2024-07-12 12:40:16,133 INFO sqlalchemy.engine.Engine BEGIN (implicit)\n"
          ]
        },
        {
          "output_type": "stream",
          "name": "stderr",
          "text": [
            "INFO:sqlalchemy.engine.Engine:BEGIN (implicit)\n"
          ]
        },
        {
          "output_type": "stream",
          "name": "stdout",
          "text": [
            "2024-07-12 12:40:16,137 INFO sqlalchemy.engine.Engine SELECT menu_items.id AS menu_items_id, menu_items.name AS menu_items_name, menu_items.description AS menu_items_description, menu_items.price AS menu_items_price, menu_items.prep_time AS menu_items_prep_time \n",
            "FROM menu_items\n"
          ]
        },
        {
          "output_type": "stream",
          "name": "stderr",
          "text": [
            "INFO:sqlalchemy.engine.Engine:SELECT menu_items.id AS menu_items_id, menu_items.name AS menu_items_name, menu_items.description AS menu_items_description, menu_items.price AS menu_items_price, menu_items.prep_time AS menu_items_prep_time \n",
            "FROM menu_items\n"
          ]
        },
        {
          "output_type": "stream",
          "name": "stdout",
          "text": [
            "2024-07-12 12:40:16,141 INFO sqlalchemy.engine.Engine [generated in 0.00444s] ()\n"
          ]
        },
        {
          "output_type": "stream",
          "name": "stderr",
          "text": [
            "INFO:sqlalchemy.engine.Engine:[generated in 0.00444s] ()\n"
          ]
        },
        {
          "output_type": "stream",
          "name": "stdout",
          "text": [
            "Menu Items: [<__main__.MenuItem object at 0x7b6f3a45fe50>, <__main__.MenuItem object at 0x7b6f3a45fe20>, <__main__.MenuItem object at 0x7b6f3a45fd30>]\n",
            "2024-07-12 12:40:16,149 INFO sqlalchemy.engine.Engine SELECT customers.id AS customers_id, customers.name AS customers_name, customers.email AS customers_email, customers.phone AS customers_phone, customers.loyalty_points AS customers_loyalty_points \n",
            "FROM customers\n"
          ]
        },
        {
          "output_type": "stream",
          "name": "stderr",
          "text": [
            "INFO:sqlalchemy.engine.Engine:SELECT customers.id AS customers_id, customers.name AS customers_name, customers.email AS customers_email, customers.phone AS customers_phone, customers.loyalty_points AS customers_loyalty_points \n",
            "FROM customers\n"
          ]
        },
        {
          "output_type": "stream",
          "name": "stdout",
          "text": [
            "2024-07-12 12:40:16,158 INFO sqlalchemy.engine.Engine [generated in 0.00967s] ()\n"
          ]
        },
        {
          "output_type": "stream",
          "name": "stderr",
          "text": [
            "INFO:sqlalchemy.engine.Engine:[generated in 0.00967s] ()\n"
          ]
        },
        {
          "output_type": "stream",
          "name": "stdout",
          "text": [
            "Customers: [<__main__.Customer object at 0x7b6f3a45feb0>, <__main__.Customer object at 0x7b6f3a45fd90>]\n",
            "2024-07-12 12:40:16,165 INFO sqlalchemy.engine.Engine SELECT feedback.id AS feedback_id, feedback.customer_id AS feedback_customer_id, feedback.rating AS feedback_rating, feedback.comment AS feedback_comment, feedback.timestamp AS feedback_timestamp \n",
            "FROM feedback\n"
          ]
        },
        {
          "output_type": "stream",
          "name": "stderr",
          "text": [
            "INFO:sqlalchemy.engine.Engine:SELECT feedback.id AS feedback_id, feedback.customer_id AS feedback_customer_id, feedback.rating AS feedback_rating, feedback.comment AS feedback_comment, feedback.timestamp AS feedback_timestamp \n",
            "FROM feedback\n"
          ]
        },
        {
          "output_type": "stream",
          "name": "stdout",
          "text": [
            "2024-07-12 12:40:16,170 INFO sqlalchemy.engine.Engine [generated in 0.00488s] ()\n"
          ]
        },
        {
          "output_type": "stream",
          "name": "stderr",
          "text": [
            "INFO:sqlalchemy.engine.Engine:[generated in 0.00488s] ()\n"
          ]
        },
        {
          "output_type": "stream",
          "name": "stdout",
          "text": [
            "Feedback: [<__main__.Feedback object at 0x7b6f3a45fcd0>, <__main__.Feedback object at 0x7b6f3a45fe80>]\n",
            "2024-07-12 12:40:16,176 INFO sqlalchemy.engine.Engine SELECT communications.id AS communications_id, communications.title AS communications_title, communications.message AS communications_message, communications.sent_at AS communications_sent_at \n",
            "FROM communications\n"
          ]
        },
        {
          "output_type": "stream",
          "name": "stderr",
          "text": [
            "INFO:sqlalchemy.engine.Engine:SELECT communications.id AS communications_id, communications.title AS communications_title, communications.message AS communications_message, communications.sent_at AS communications_sent_at \n",
            "FROM communications\n"
          ]
        },
        {
          "output_type": "stream",
          "name": "stdout",
          "text": [
            "2024-07-12 12:40:16,184 INFO sqlalchemy.engine.Engine [generated in 0.00810s] ()\n"
          ]
        },
        {
          "output_type": "stream",
          "name": "stderr",
          "text": [
            "INFO:sqlalchemy.engine.Engine:[generated in 0.00810s] ()\n"
          ]
        },
        {
          "output_type": "stream",
          "name": "stdout",
          "text": [
            "Communications: [<__main__.Communication object at 0x7b6f3a45fc70>, <__main__.Communication object at 0x7b6f3a45fa60>]\n",
            "2024-07-12 12:40:16,190 INFO sqlalchemy.engine.Engine SELECT payments.id AS payments_id, payments.customer_id AS payments_customer_id, payments.amount AS payments_amount, payments.method AS payments_method, payments.bank_name AS payments_bank_name, payments.timestamp AS payments_timestamp \n",
            "FROM payments\n"
          ]
        },
        {
          "output_type": "stream",
          "name": "stderr",
          "text": [
            "INFO:sqlalchemy.engine.Engine:SELECT payments.id AS payments_id, payments.customer_id AS payments_customer_id, payments.amount AS payments_amount, payments.method AS payments_method, payments.bank_name AS payments_bank_name, payments.timestamp AS payments_timestamp \n",
            "FROM payments\n"
          ]
        },
        {
          "output_type": "stream",
          "name": "stdout",
          "text": [
            "2024-07-12 12:40:16,200 INFO sqlalchemy.engine.Engine [generated in 0.01040s] ()\n"
          ]
        },
        {
          "output_type": "stream",
          "name": "stderr",
          "text": [
            "INFO:sqlalchemy.engine.Engine:[generated in 0.01040s] ()\n"
          ]
        },
        {
          "output_type": "stream",
          "name": "stdout",
          "text": [
            "Payments: [<__main__.Payment object at 0x7b6f3a45fb50>, <__main__.Payment object at 0x7b6f3a45fac0>, <__main__.Payment object at 0x7b6f3a45f970>, <__main__.Payment object at 0x7b6f3a45f910>]\n"
          ]
        }
      ]
    },
    {
      "cell_type": "markdown",
      "source": [
        "##CRUD Operations for Payment Table"
      ],
      "metadata": {
        "id": "zeL1sJLKMOGu"
      }
    },
    {
      "cell_type": "markdown",
      "source": [
        "###Create"
      ],
      "metadata": {
        "id": "nsX4qnraPQkp"
      }
    },
    {
      "cell_type": "code",
      "source": [
        "def create_payment(session, customer_id, amount, method, bank_name=None):\n",
        "    \"\"\"\n",
        "    Create a new payment record.\n",
        "\n",
        "    Parameters:\n",
        "    - session: SQLAlchemy session object.\n",
        "    - customer_id: ID of the customer making the payment.\n",
        "    - amount: Amount of the payment.\n",
        "    - method: Payment method (enum: debit_card, credit_card, cash, mpesa).\n",
        "    - bank_name: Optional bank name for card payments.\n",
        "\n",
        "    Returns:\n",
        "    - None\n",
        "    \"\"\"\n",
        "    new_payment = Payment(customer_id=customer_id, amount=amount, method=method, bank_name=bank_name)\n",
        "    session.add(new_payment)\n",
        "    session.commit()\n"
      ],
      "metadata": {
        "id": "VpRbYLunMMhk"
      },
      "execution_count": 17,
      "outputs": []
    },
    {
      "cell_type": "markdown",
      "source": [
        "##Read"
      ],
      "metadata": {
        "id": "T5AX_hraPLZl"
      }
    },
    {
      "cell_type": "code",
      "source": [
        "def get_payment_by_id(session, payment_id):\n",
        "    \"\"\"\n",
        "    Retrieve a payment record by its ID.\n",
        "\n",
        "    Parameters:\n",
        "    - session: SQLAlchemy session object.\n",
        "    - payment_id: ID of the payment record to retrieve.\n",
        "\n",
        "    Returns:\n",
        "    - Payment object if found, None otherwise.\n",
        "    \"\"\"\n",
        "    return session.query(Payment).filter_by(id=payment_id).first()\n"
      ],
      "metadata": {
        "id": "3q8No01HMcTg"
      },
      "execution_count": 18,
      "outputs": []
    },
    {
      "cell_type": "markdown",
      "source": [
        "###Update"
      ],
      "metadata": {
        "id": "bIHZbXw1PCez"
      }
    },
    {
      "cell_type": "code",
      "source": [
        "def update_payment(session, payment_id, amount=None, method=None, bank_name=None):\n",
        "    \"\"\"\n",
        "    Update an existing payment record.\n",
        "\n",
        "    Parameters:\n",
        "    - session: SQLAlchemy session object.\n",
        "    - payment_id: ID of the payment record to update.\n",
        "    - amount: New amount of the payment (optional).\n",
        "    - method: New payment method (optional).\n",
        "    - bank_name: New bank name (optional).\n",
        "\n",
        "    Returns:\n",
        "    - None\n",
        "    \"\"\"\n",
        "    payment = session.query(Payment).filter_by(id=payment_id).first()\n",
        "    if payment:\n",
        "        if amount is not None:\n",
        "            payment.amount = amount\n",
        "        if method is not None:\n",
        "            payment.method = method\n",
        "        if bank_name is not None:\n",
        "            payment.bank_name = bank_name\n",
        "        session.commit()\n"
      ],
      "metadata": {
        "id": "iX_sRt8YMkz_"
      },
      "execution_count": 19,
      "outputs": []
    },
    {
      "cell_type": "markdown",
      "source": [
        "###Delete"
      ],
      "metadata": {
        "id": "DIyhu445RBWj"
      }
    },
    {
      "cell_type": "code",
      "source": [
        "def delete_payment(session, payment_id):\n",
        "    \"\"\"\n",
        "    Delete a payment record.\n",
        "\n",
        "    Parameters:\n",
        "    - session: SQLAlchemy session object.\n",
        "    - payment_id: ID of the payment record to delete.\n",
        "\n",
        "    Returns:\n",
        "    - None\n",
        "    \"\"\"\n",
        "    payment = session.query(Payment).filter_by(id=payment_id).first()\n",
        "    if payment:\n",
        "        session.delete(payment)\n",
        "        session.commit()\n"
      ],
      "metadata": {
        "id": "EmYe2JUJRDsh"
      },
      "execution_count": 20,
      "outputs": []
    }
  ]
}